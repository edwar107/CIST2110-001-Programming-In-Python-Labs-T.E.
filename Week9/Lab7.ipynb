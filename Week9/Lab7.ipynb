{
 "cells": [
  {
   "cell_type": "markdown",
   "metadata": {},
   "source": [
    "# Python Lists, and API's\n",
    "### Name: Terrisha Edwards \n",
    "### Lab: 6\n",
    "\n",
    "Todays Lab will be going over python lists, tuples, and using some api's\n",
    "to get data from the internet. We will be using the requests library to\n",
    "get data from the internet. We will also be using the json library to\n",
    "parse the data we get from the internet."
   ]
  },
  {
   "cell_type": "code",
   "execution_count": null,
   "metadata": {},
   "outputs": [],
   "source": [
    "# Creating Lists and Tuples\n",
    "\n",
    "# Create a list named fruits with the following elements: \"apple\", \"banana\", \"cherry\".\n",
    "fruits = [\"apple\", \"banana\", \"cherry\"]\n",
    "# Create a tuple named coordinates with three numbers representing a point in 3D space.\n",
    "coordinates = (1, 2, 3)"
   ]
  },
  {
   "cell_type": "code",
   "execution_count": null,
   "metadata": {},
   "outputs": [],
   "source": [
    "# Accessing Elements\n",
    "\n",
    "# Print the second element of the fruits list.\n",
    "fruits[1] # lists are indexed starting at 0\n",
    "# Print the last element of the coordinates tuple.\n",
    "coordinates[-1] # tuples can be indexed from the end with negative numbers"
   ]
  },
  {
   "cell_type": "code",
   "execution_count": null,
   "metadata": {},
   "outputs": [],
   "source": [
    "# Modifying lists\n",
    "\n",
    "# Add \"orange\" to the end of the fruits list.\n",
    "fruits.append(\"orange\")\n",
    "print(fruits)\n",
    "# Insert \"blueberry\" at the beginning of the fruits list.\n",
    "fruits.insert(0, \"blueberry\")\n",
    "print(fruits)\n",
    "#  Remove \"banana\" from the fruits list.\n",
    "fruits.remove(\"banana\")\n",
    "print(fruits)\n",
    "# Change the first element of the fruits list to \"strawberry\".\n",
    "fruits[0] = \"strawberry\"\n",
    "print(fruits)"
   ]
  },
  {
   "cell_type": "code",
   "execution_count": null,
   "metadata": {},
   "outputs": [],
   "source": [
    "# List Slicing\n",
    "\n",
    "# Create a new list berries that contains only the \"blueberry\" and \"strawberry\" from the fruits list.\n",
    "berries = fruits[1:3] #slicing is done with square brackets [] and a colon :\n",
    "# read as \"from 1 to 3\" (3 not included)\n",
    "# Print the last two elements of the fruits list using negative indexing.\n",
    "\n",
    "#[\"apple\", \"banana\", \"cherry\"]\n",
    "# -3   2   -1\n",
    "# 0    1    2\n",
    "\n",
    "print(berries)\n",
    "# Print the last two elements of the fruits list using negative indexing.\n",
    "\n",
    "fruits[-2:] # read as \"from -2 to the end\"(end not included)\n",
    "\n",
    "fruits[:] #read as \"from the beginning to the end\"\n",
    "\n",
    "\n",
    "fruits[2:] #read as \"from the beginning to the end\"\n",
    "\n",
    "fruits[::2] #read as \"from the beginning to the end, every 2nd element\"\n"
   ]
  },
  {
   "cell_type": "code",
   "execution_count": null,
   "metadata": {},
   "outputs": [],
   "source": [
    "# List Comprehensions\n",
    "\n",
    "# Create a new list even_fruits that contains only the fruits with an even number of characters from the fruits list.\n",
    "even_fruits = [fruit for fruit in fruits if len(fruit) % 2 == 0]\n",
    "# Create a new list upper_fruits that contains all the fruits from the fruits list in uppercase letters.\n",
    "upper_fruits = [fruit.upper() for fruit in fruits]\n"
   ]
  },
  {
   "cell_type": "code",
   "execution_count": null,
   "metadata": {},
   "outputs": [],
   "source": [
    "# Tuples and immutability\n",
    "\n",
    "# Try to change the first element of the coordinates tuple to a different number and observe what happens.\n",
    "coordinates[0] = 4\n",
    "# Try to add a new element to the coordinates tuple and observe what happens.\n",
    "coordinates.append(4)\n",
    "# Create a new tuple new_coordinates that is a modified version of coordinates with the first element changed.\n",
    "new_coordinates = (4, 2, 3)\n"
   ]
  },
  {
   "cell_type": "code",
   "execution_count": null,
   "metadata": {},
   "outputs": [],
   "source": [
    "# Built-in Functions and Methods\n",
    "\n",
    "# Use the len() function to print the length of the fruits list.\n",
    "len(fruits)\n",
    "# Use the sorted() function to print a sorted version of the fruits list without changing the original list.\n",
    "sorted(fruits)\n",
    "# Use the list.sort() method to sort the fruits list in place.\n",
    "fruits.sort()\n",
    "# Find the index of \"cherry\" in the fruits list using the list.index() method.\n",
    "fruits.index(\"cherry\")\n",
    "#index starts at 0"
   ]
  },
  {
   "cell_type": "markdown",
   "metadata": {},
   "source": [
    "# Working with API's \n",
    "\n"
   ]
  },
  {
   "cell_type": "code",
   "execution_count": null,
   "metadata": {},
   "outputs": [],
   "source": [
    "# import the requests library to get data from the internet\n",
    "import requests\n",
    "\n",
    "# import the json library to parse the data we get from the internet\n",
    "import json\n"
   ]
  },
  {
   "cell_type": "code",
   "execution_count": null,
   "metadata": {},
   "outputs": [],
   "source": [
    "# Use the requests library to send a GET request to the JSONPlaceholder API to retrieve a list of posts. The API endpoint is https://jsonplaceholder.typicode.com/posts.\n",
    "api_data = requests.get(\"https://jsonplaceholder.typicode.com/posts\")"
   ]
  },
  {
   "cell_type": "code",
   "execution_count": null,
   "metadata": {},
   "outputs": [],
   "source": [
    "# Parse the JSON response and store it in a variable posts.\n",
    "# Note: We did not learn about JSON yet (This will be taught in more depth in our lesson on Dictionaries for now just think of it as a way to represent data.)\n",
    "api_data = requests.get(\"https://jsonplaceholder.typicode.com/posts\")\n",
    "\n",
    "#convert api_data to a list of dictionaries with json()\n",
    "api_data = api_data. jaon()\n",
    "#  Print the title of the first post in the api_data list.\n",
    "first_post_title = api_data[0][\"title\"]\n",
    "\n",
    "print(first_post_title)\n",
    "\n",
    "\n",
    "# Create a list post_titles that contains the titles of all the posts.\n",
    "post_titles = [post[\"title\"] for post in api_data] #string comprehensions\n",
    "\n",
    "#What would this look like without list comprehensions?\n",
    "\n",
    "post_titles = []\n",
    "\n",
    "for post in api_data:\n",
    "    post_titles.append(post[\"title\"])\n"
   ]
  },
  {
   "cell_type": "code",
   "execution_count": null,
   "metadata": {},
   "outputs": [],
   "source": [
    "# Find the post with the longest title and print its title and body. Print the titles of the first 5 posts using slicing. \n",
    "# Note: Copilot might try to fill in a lambda function for this task. Try to solve it without using a lambda function.\n",
    "\n",
    "longest_title = \"\"\n",
    "longest_body = \"\"\n",
    "for post in api_data:\n",
    "    if len(post[\"title\"]) > len(longest_title):\n",
    "        longest_title = post[\"title\"]\n",
    "        longest_body = post[\"body\"]\n",
    "\n",
    "print(longest_title)\n",
    "print(longest_body)\n"
   ]
  },
  {
   "cell_type": "code",
   "execution_count": null,
   "metadata": {},
   "outputs": [],
   "source": [
    "# Create a tuple post_info that contains the userId, title, and body of the fifth post in the list.\n",
    "post_info = (api_data[4}[\"userId\"], api_data[4][\"title\"], api_data[4][\"body\"])\n",
    "# tuples are made with parentheses ()\n",
    "# tuples are indexed with dquare brackets []\n",
    "print(post_info)\n"
   ]
  }
 ],
 "metadata": {
  "language_info": {
   "name": "python"
  }
 },
 "nbformat": 4,
 "nbformat_minor": 2
}
